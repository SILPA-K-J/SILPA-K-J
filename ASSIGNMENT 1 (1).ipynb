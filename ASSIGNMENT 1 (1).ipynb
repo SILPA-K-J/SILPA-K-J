{
 "cells": [
  {
   "cell_type": "markdown",
   "id": "e5ba3f9d",
   "metadata": {},
   "source": [
    "# ASSIGNMENT 1"
   ]
  },
  {
   "cell_type": "markdown",
   "id": "00ed39b6",
   "metadata": {},
   "source": [
    "Question 1 "
   ]
  },
  {
   "cell_type": "code",
   "execution_count": 1,
   "id": "193ca551",
   "metadata": {},
   "outputs": [
    {
     "name": "stdout",
     "output_type": "stream",
     "text": [
      "Enter the name:Anisha\n",
      "Enter the roll number:21\n",
      "Enter the mark:78\n",
      "Name: Anisha\n",
      "Roll No: 21\n",
      "Mark: 78\n"
     ]
    }
   ],
   "source": [
    "a=input('Enter the name:')\n",
    "b=input('Enter the roll number:')\n",
    "c=input('Enter the mark:')\n",
    "print('Name:',a)\n",
    "print('Roll No:',b)\n",
    "print('Mark:',c)"
   ]
  },
  {
   "cell_type": "markdown",
   "id": "b8c4c842",
   "metadata": {},
   "source": [
    "Question 2 "
   ]
  },
  {
   "cell_type": "code",
   "execution_count": 3,
   "id": "12bba10e",
   "metadata": {},
   "outputs": [
    {
     "name": "stdout",
     "output_type": "stream",
     "text": [
      "The temperature in fahrenheit=41\n",
      "Temperature in degree celcius= 5.0\n"
     ]
    }
   ],
   "source": [
    "f=int(input('The temperature in fahrenheit='))\n",
    "c=(f-32)*5/9\n",
    "print('Temperature in degree celcius=',c)"
   ]
  },
  {
   "cell_type": "markdown",
   "id": "62dd4680",
   "metadata": {},
   "source": [
    "Question 3 "
   ]
  },
  {
   "cell_type": "code",
   "execution_count": 4,
   "id": "11e590a8",
   "metadata": {},
   "outputs": [
    {
     "name": "stdout",
     "output_type": "stream",
     "text": [
      "Enter a number:5\n",
      "Enter another number:6\n",
      "30\n"
     ]
    }
   ],
   "source": [
    "a=int(input('Enter a number:'))\n",
    "b=int(input('Enter another number:'))\n",
    "print(a*b)"
   ]
  },
  {
   "cell_type": "markdown",
   "id": "288873c1",
   "metadata": {},
   "source": [
    "Question 4 "
   ]
  },
  {
   "cell_type": "code",
   "execution_count": 5,
   "id": "48d2634f",
   "metadata": {},
   "outputs": [
    {
     "name": "stdout",
     "output_type": "stream",
     "text": [
      "Enter a string:\"Learn**Python**by Developing a **Website**\"\n",
      "\"Learn**Python**by Developing a **Website**\"\n"
     ]
    }
   ],
   "source": [
    "a=input('Enter a string:')\n",
    "print(a)"
   ]
  },
  {
   "cell_type": "markdown",
   "id": "a4680973",
   "metadata": {},
   "source": [
    "Question 5 "
   ]
  },
  {
   "cell_type": "code",
   "execution_count": 6,
   "id": "89c34053",
   "metadata": {},
   "outputs": [
    {
     "name": "stdout",
     "output_type": "stream",
     "text": [
      "Enter the radius of circle:2\n",
      "Area of the circle= 12.566370614359172 sqcm\n",
      "Perimeter of the circle= 12.566370614359172 cm\n"
     ]
    }
   ],
   "source": [
    "import math\n",
    "r=int(input('Enter the radius of circle:'))\n",
    "print('Area of the circle=',math.pi*r*r,'sqcm')\n",
    "print('Perimeter of the circle=',2*math.pi*r,'cm')"
   ]
  },
  {
   "cell_type": "markdown",
   "id": "062034ec",
   "metadata": {},
   "source": [
    "Question 6 "
   ]
  },
  {
   "cell_type": "code",
   "execution_count": 7,
   "id": "a1ea5c17",
   "metadata": {},
   "outputs": [
    {
     "data": {
      "text/plain": [
       "[10, 20, 15, 16, 20, 18, 19]"
      ]
     },
     "execution_count": 7,
     "metadata": {},
     "output_type": "execute_result"
    }
   ],
   "source": [
    "list1=[10,20,15,16,18,19]\n",
    "list1.insert(4,20)\n",
    "list1"
   ]
  },
  {
   "cell_type": "markdown",
   "id": "eb998d50",
   "metadata": {},
   "source": [
    "Question 7"
   ]
  },
  {
   "cell_type": "code",
   "execution_count": 8,
   "id": "af415cd3",
   "metadata": {},
   "outputs": [
    {
     "data": {
      "text/plain": [
       "{'name': 'John', 'age': 5, 'salary': 8000, 'location': 'New York'}"
      ]
     },
     "execution_count": 8,
     "metadata": {},
     "output_type": "execute_result"
    }
   ],
   "source": [
    "sample_dict={'name':'John','age':5,'salary':8000,'city':'New York'}\n",
    "sample_dict['location']=sample_dict.pop('city')\n",
    "sample_dict"
   ]
  },
  {
   "cell_type": "markdown",
   "id": "7c9efdbd",
   "metadata": {},
   "source": [
    "Question 8 "
   ]
  },
  {
   "cell_type": "code",
   "execution_count": 9,
   "id": "ded3fb42",
   "metadata": {},
   "outputs": [
    {
     "name": "stdout",
     "output_type": "stream",
     "text": [
      "{'em1': {'name': 'John', 'salary': 7500}, 'em2': {'name': 'Emma', 'salary': 8000}, 'em3': {'name': 'Brad', 'salary': 8500}}\n"
     ]
    }
   ],
   "source": [
    "sample_dict={'em1':{'name':'John','salary':7500},'em2':{'name':'Emma','salary':8000},'em3':{'name':'Brad','salary':500}}\n",
    "sample_dict['em3']['salary']=8500\n",
    "print(sample_dict)"
   ]
  },
  {
   "cell_type": "markdown",
   "id": "add8ec3b",
   "metadata": {},
   "source": [
    "Question 9"
   ]
  },
  {
   "cell_type": "code",
   "execution_count": 10,
   "id": "536f0cb6",
   "metadata": {},
   "outputs": [
    {
     "data": {
      "text/plain": [
       "(43, 54)"
      ]
     },
     "execution_count": 10,
     "metadata": {},
     "output_type": "execute_result"
    }
   ],
   "source": [
    "tuple1=(10,20,43,54,56,68)\n",
    "tuple2=tuple1[2:4]\n",
    "tuple2"
   ]
  },
  {
   "cell_type": "markdown",
   "id": "ab7acd7d",
   "metadata": {},
   "source": [
    "Question 10 "
   ]
  },
  {
   "cell_type": "code",
   "execution_count": 11,
   "id": "61b23d2e",
   "metadata": {},
   "outputs": [
    {
     "data": {
      "text/plain": [
       "3"
      ]
     },
     "execution_count": 11,
     "metadata": {},
     "output_type": "execute_result"
    }
   ],
   "source": [
    "tuple1=(50,10,60,70,50,83,567,50,81)\n",
    "tuple1.count(50)"
   ]
  },
  {
   "cell_type": "code",
   "execution_count": null,
   "id": "13c7e36f",
   "metadata": {},
   "outputs": [],
   "source": []
  }
 ],
 "metadata": {
  "kernelspec": {
   "display_name": "Python 3 (ipykernel)",
   "language": "python",
   "name": "python3"
  },
  "language_info": {
   "codemirror_mode": {
    "name": "ipython",
    "version": 3
   },
   "file_extension": ".py",
   "mimetype": "text/x-python",
   "name": "python",
   "nbconvert_exporter": "python",
   "pygments_lexer": "ipython3",
   "version": "3.9.13"
  }
 },
 "nbformat": 4,
 "nbformat_minor": 5
}
