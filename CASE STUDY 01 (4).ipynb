{
 "cells": [
  {
   "cell_type": "markdown",
   "id": "b3707979",
   "metadata": {},
   "source": [
    "# CASE STUDY 01"
   ]
  },
  {
   "cell_type": "raw",
   "id": "ac4714ff",
   "metadata": {},
   "source": [
    "1. A school has following rules for grading system:\n",
    "a. Below 25 - F\n",
    "b. 25 to 45 - E\n",
    "c. 45 to 50 - D\n",
    "d. 50 to 60 - C\n",
    "e. 60 to 80 - B\n",
    "f. Above 80 - A\n",
    "Ask user to enter marks and print the corresponding grade"
   ]
  },
  {
   "cell_type": "code",
   "execution_count": 1,
   "id": "96b209b4",
   "metadata": {},
   "outputs": [
    {
     "name": "stdout",
     "output_type": "stream",
     "text": [
      "Enter the marks:63\n",
      "Your grade is B\n"
     ]
    }
   ],
   "source": [
    "marks=input('Enter the marks:')\n",
    "marks=float(marks)\n",
    "if marks<25:\n",
    "    print('Your grade is F')\n",
    "elif marks>=25 and marks<45:\n",
    "    print('Your grade is E')\n",
    "elif marks>=45 and marks<50:\n",
    "    print('Your grade is D')\n",
    "elif marks>=50 and marks<60:\n",
    "    print('Your grade is C')\n",
    "elif marks>=60 and marks<80:\n",
    "    print('Your grade is B')\n",
    "else:\n",
    "    print('Your grade is A')"
   ]
  },
  {
   "cell_type": "raw",
   "id": "e823ac5c",
   "metadata": {},
   "source": [
    "2. You have a list of names. Create a new list which contains only the names \n",
    "with non-repeating characters. \n",
    "Sample input = [‘John’,’Peter’,’Meera’,’Mini’,’Krishna’]\n",
    "Sample output = [‘John’,Krishna]"
   ]
  },
  {
   "cell_type": "code",
   "execution_count": null,
   "id": "848c2791",
   "metadata": {},
   "outputs": [],
   "source": []
  },
  {
   "cell_type": "raw",
   "id": "5fb8bf24",
   "metadata": {},
   "source": [
    "3. Take values of length and breadth of a rectangle from user and check if it \n",
    "is square or not."
   ]
  },
  {
   "cell_type": "code",
   "execution_count": 2,
   "id": "7e5a568f",
   "metadata": {},
   "outputs": [
    {
     "name": "stdout",
     "output_type": "stream",
     "text": [
      "Enter the length:5\n",
      "Enter the breadth:3\n",
      "It is not a square,it is a rectangle\n"
     ]
    }
   ],
   "source": [
    "l=input('Enter the length:')\n",
    "b=input('Enter the breadth:')\n",
    "if l==b:\n",
    "    print('It is a square')\n",
    "else:\n",
    "    print('It is not a square,it is a rectangle')"
   ]
  },
  {
   "cell_type": "raw",
   "id": "ce5c5bf3",
   "metadata": {},
   "source": [
    "4. A student will not be allowed to sit in exam if his/her attendance is less \n",
    "than 75%. Take following input from user Number of classes held \n",
    "Number of classes attended. And print percentage of class attended Is \n",
    "student is allowed to sit in exam or not."
   ]
  },
  {
   "cell_type": "code",
   "execution_count": 3,
   "id": "32f7979d",
   "metadata": {},
   "outputs": [
    {
     "name": "stdout",
     "output_type": "stream",
     "text": [
      "Enter the no of classes held:20\n",
      "Enter the no of class attended:15\n",
      "Percentage of attendance = 75.0\n",
      "Your are allowed to sit in exam\n"
     ]
    }
   ],
   "source": [
    "n=int(input('Enter the no of classes held:'))\n",
    "a=int(input('Enter the no of class attended:'))\n",
    "atten=(a/n)*100\n",
    "print('Percentage of attendance =',atten)\n",
    "if atten>=75:\n",
    "    print('Your are allowed to sit in exam')\n",
    "else:\n",
    "    print('Your are not allowed to sit in exam')\n"
   ]
  },
  {
   "cell_type": "raw",
   "id": "7a77eba7",
   "metadata": {},
   "source": [
    "5. Create a list by taking length of the list and elements of the list from user. \n",
    "Then find the sum of the elements of the list. Also create a new called even \n",
    "list which contains only even numbers from first list and odd list which \n",
    "contains odd numbers from the list. \n",
    "Sample input:\n",
    "Length of the list = 5\n",
    "List1 = [2,6,3,1,5]\n",
    "Sum = 17\n",
    "Even_list=[2,6]\n",
    "Odd_list=[3,1,5]\n"
   ]
  },
  {
   "cell_type": "code",
   "execution_count": 4,
   "id": "4ae4f002",
   "metadata": {},
   "outputs": [
    {
     "name": "stdout",
     "output_type": "stream",
     "text": [
      "Length of the list:5\n",
      "Enter element:2\n",
      "Enter element:6\n",
      "Enter element:3\n",
      "Enter element:1\n",
      "Enter element:5\n",
      "Length of the list= 5\n",
      "list= [2, 6, 3, 1, 5]\n",
      "Sum= 17\n",
      "The even list is [2, 6]\n",
      "The odd list is [3, 1, 5]\n"
     ]
    }
   ],
   "source": [
    "a=[]\n",
    "n=int(input('Length of the list:'))\n",
    "for i in range(1,n+1):\n",
    "    b=int(input('Enter element:'))\n",
    "    a.append(b)\n",
    "even=[]\n",
    "odd=[]\n",
    "for j in a:\n",
    "    if j%2==0:\n",
    "        even.append(j)\n",
    "    else:\n",
    "        odd.append(j)\n",
    "print('Length of the list=',n)\n",
    "print('list=',a)\n",
    "print('Sum=',sum(a))\n",
    "print(\"The even list is\",even)\n",
    "print('The odd list is',odd)\n"
   ]
  },
  {
   "cell_type": "raw",
   "id": "a3fd8743",
   "metadata": {},
   "source": [
    "6. Create a sample chatbot for an ecommerce website."
   ]
  },
  {
   "cell_type": "code",
   "execution_count": null,
   "id": "e1bc4fcf",
   "metadata": {},
   "outputs": [],
   "source": [
    "7. Write a program to find the roots of a quadratic equation. Get the co\u0002efficients of quadratic equation ax^2+bx+c and display whether the roots \n",
    "are real and equal or real and distinct or roots are imaginary. You have to \n",
    "find the roots and display it as well."
   ]
  },
  {
   "cell_type": "code",
   "execution_count": 5,
   "id": "2ecf24f5",
   "metadata": {},
   "outputs": [
    {
     "name": "stdout",
     "output_type": "stream",
     "text": [
      "Enter a:1\n",
      "Enter b:2\n",
      "Enter c:1\n",
      "The roots are real and same\n",
      "The root is -1.0\n"
     ]
    }
   ],
   "source": [
    "import math\n",
    "a=float(input('Enter a:'))\n",
    "b=float(input('Enter b:'))\n",
    "c=float(input('Enter c:'))\n",
    "d=b*b-4*a*c\n",
    "if a==0:\n",
    "    print('Equation is not quadratic')\n",
    "else:\n",
    "    d=b*b-4*a*c\n",
    "    if d>0:\n",
    "        root1=(-b+math.sqrt(d)/(2*a))\n",
    "        root2=(-b-math.sqrt(d)/(2*a))\n",
    "        print('Roots are real and distinct')\n",
    "        print('The roots are',root1,'and',root2)\n",
    "    elif d==0:\n",
    "        root=-b/2*a\n",
    "        print('The roots are real and same')\n",
    "        print('The root is',root)\n",
    "    else:\n",
    "        if d<0:\n",
    "            print('The roots are imaginary')\n",
    "            "
   ]
  },
  {
   "cell_type": "code",
   "execution_count": null,
   "id": "853d30fc",
   "metadata": {},
   "outputs": [],
   "source": [
    "8. Given a range of first 10 numbers, write a Python program to iterate from \n",
    "start number to the end number and print the sum of the current number \n",
    "and previous number. \n",
    "Sample input: 1….10 \n",
    "Sample output: Current Number 1 Previous Number 0 Sum: 1\n",
    "Current Number 2 Previous Number 1 Sum: 3 \n",
    "Current Number 3 Previous Number 2 Sum: 5… \n",
    "…….\n",
    "Current Number 10 Previous Number 9 Sum: 19"
   ]
  },
  {
   "cell_type": "code",
   "execution_count": 6,
   "id": "5786a49e",
   "metadata": {},
   "outputs": [
    {
     "name": "stdout",
     "output_type": "stream",
     "text": [
      "Current no: 0 Previous no: 0 Sum  is 0\n",
      "Current no: 1 Previous no: 0 Sum  is 1\n",
      "Current no: 2 Previous no: 1 Sum  is 3\n",
      "Current no: 3 Previous no: 2 Sum  is 5\n",
      "Current no: 4 Previous no: 3 Sum  is 7\n",
      "Current no: 5 Previous no: 4 Sum  is 9\n",
      "Current no: 6 Previous no: 5 Sum  is 11\n",
      "Current no: 7 Previous no: 6 Sum  is 13\n",
      "Current no: 8 Previous no: 7 Sum  is 15\n",
      "Current no: 9 Previous no: 8 Sum  is 17\n"
     ]
    }
   ],
   "source": [
    "num=list(range(10))\n",
    "previousnum=0\n",
    "for i in num:\n",
    "    s=previousnum+i\n",
    "    print('Current no: '+str(i)+' Previous no: '+str(previousnum)+' Sum  is '+str(s))\n",
    "    previousnum=i"
   ]
  },
  {
   "cell_type": "raw",
   "id": "8c41d5b5",
   "metadata": {},
   "source": [
    "9. Write a Python program to find the prime numbers in a given range. Get \n",
    "the range from user and print prime numbers in that range."
   ]
  },
  {
   "cell_type": "code",
   "execution_count": 7,
   "id": "06d18b80",
   "metadata": {},
   "outputs": [
    {
     "name": "stdout",
     "output_type": "stream",
     "text": [
      "Enter the lower bound:3\n",
      "Enter the upper bound:23\n",
      "The prime numbers between 3 and 23 are\n",
      "3\n",
      "5\n",
      "7\n",
      "11\n",
      "13\n",
      "17\n",
      "19\n",
      "23\n"
     ]
    }
   ],
   "source": [
    "start=int(input('Enter the lower bound:'))\n",
    "stop=int(input('Enter the upper bound:'))\n",
    "print('The prime numbers between',start,'and',stop,'are')\n",
    "for val in range(start,stop+1):\n",
    "    if val>1:\n",
    "        for i in range(2,val):\n",
    "            if (val%i==0):\n",
    "                break\n",
    "        else:\n",
    "            print(val)"
   ]
  },
  {
   "cell_type": "raw",
   "id": "5c24622e",
   "metadata": {},
   "source": [
    "10. Write a Python program to print Fibonacci series in a given range. "
   ]
  },
  {
   "cell_type": "code",
   "execution_count": 8,
   "id": "14d79e79",
   "metadata": {},
   "outputs": [
    {
     "name": "stdout",
     "output_type": "stream",
     "text": [
      "Enter the upper limit:30\n",
      "List of Fibonacci numbers upto 30\n",
      "1123581321"
     ]
    }
   ],
   "source": [
    "a=int(input('Enter the upper limit:'))\n",
    "b=[]\n",
    "print('List of Fibonacci numbers upto',a)\n",
    "x=1\n",
    "y=1\n",
    "b.append(x)\n",
    "b.append(y)\n",
    "while x+y<=a:\n",
    "    z=x+y\n",
    "    b.append(z)\n",
    "    x=y\n",
    "    y=z\n",
    "for k in range(0,len(b)):\n",
    "    print(b[k],end=\"\")"
   ]
  },
  {
   "cell_type": "code",
   "execution_count": null,
   "id": "7566e91a",
   "metadata": {},
   "outputs": [],
   "source": []
  }
 ],
 "metadata": {
  "kernelspec": {
   "display_name": "Python 3 (ipykernel)",
   "language": "python",
   "name": "python3"
  },
  "language_info": {
   "codemirror_mode": {
    "name": "ipython",
    "version": 3
   },
   "file_extension": ".py",
   "mimetype": "text/x-python",
   "name": "python",
   "nbconvert_exporter": "python",
   "pygments_lexer": "ipython3",
   "version": "3.9.13"
  }
 },
 "nbformat": 4,
 "nbformat_minor": 5
}
